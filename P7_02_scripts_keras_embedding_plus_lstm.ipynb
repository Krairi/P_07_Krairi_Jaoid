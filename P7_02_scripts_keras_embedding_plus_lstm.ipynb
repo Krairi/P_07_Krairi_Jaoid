{
 "cells": [
  {
   "cell_type": "markdown",
   "metadata": {},
   "source": [
    "# P7 : Détectez les Bad Buzz grâce au Deep Learning"
   ]
  },
  {
   "cell_type": "markdown",
   "metadata": {},
   "source": [
    "## Traitement du contenu des tweets (pour modèle Keras simple optimisé et Keras simple optimisé avec couche LSTM )"
   ]
  },
  {
   "cell_type": "code",
   "execution_count": 1,
   "metadata": {},
   "outputs": [
    {
     "name": "stderr",
     "output_type": "stream",
     "text": [
      "C:\\Users\\JK253\\anaconda3\\lib\\site-packages\\numpy\\_distributor_init.py:30: UserWarning: loaded more than 1 DLL from .libs:\n",
      "C:\\Users\\JK253\\anaconda3\\lib\\site-packages\\numpy\\.libs\\libopenblas.PYQHXLVVQ7VESDPUVUADXEVJOBGHJPAY.gfortran-win_amd64.dll\n",
      "C:\\Users\\JK253\\anaconda3\\lib\\site-packages\\numpy\\.libs\\libopenblas.XWYDX2IKJW2NMTWSFYNGFUWKQU3LYTCZ.gfortran-win_amd64.dll\n",
      "  warnings.warn(\"loaded more than 1 DLL from .libs:\"\n"
     ]
    },
    {
     "data": {
      "text/plain": [
       "'/device:GPU:0'"
      ]
     },
     "execution_count": 1,
     "metadata": {},
     "output_type": "execute_result"
    }
   ],
   "source": [
    "import tensorflow as tf\n",
    "tf.test.gpu_device_name ()"
   ]
  },
  {
   "cell_type": "code",
   "execution_count": 2,
   "metadata": {},
   "outputs": [
    {
     "data": {
      "text/plain": [
       "[name: \"/device:CPU:0\"\n",
       " device_type: \"CPU\"\n",
       " memory_limit: 268435456\n",
       " locality {\n",
       " }\n",
       " incarnation: 10935274113755420757\n",
       " xla_global_id: -1,\n",
       " name: \"/device:GPU:0\"\n",
       " device_type: \"GPU\"\n",
       " memory_limit: 4181524480\n",
       " locality {\n",
       "   bus_id: 1\n",
       "   links {\n",
       "   }\n",
       " }\n",
       " incarnation: 14369819352095386145\n",
       " physical_device_desc: \"device: 0, name: NVIDIA GeForce GTX 1660 Ti, pci bus id: 0000:01:00.0, compute capability: 7.5\"\n",
       " xla_global_id: 416903419]"
      ]
     },
     "execution_count": 2,
     "metadata": {},
     "output_type": "execute_result"
    }
   ],
   "source": [
    "from tensorflow.python.client import device_lib \n",
    "device_lib.list_local_devices ()"
   ]
  },
  {
   "cell_type": "code",
   "execution_count": 3,
   "metadata": {},
   "outputs": [
    {
     "data": {
      "text/html": [
       "<div>\n",
       "<style scoped>\n",
       "    .dataframe tbody tr th:only-of-type {\n",
       "        vertical-align: middle;\n",
       "    }\n",
       "\n",
       "    .dataframe tbody tr th {\n",
       "        vertical-align: top;\n",
       "    }\n",
       "\n",
       "    .dataframe thead th {\n",
       "        text-align: right;\n",
       "    }\n",
       "</style>\n",
       "<table border=\"1\" class=\"dataframe\">\n",
       "  <thead>\n",
       "    <tr style=\"text-align: right;\">\n",
       "      <th></th>\n",
       "      <th>label</th>\n",
       "      <th>tweet</th>\n",
       "      <th>date_du_poste</th>\n",
       "      <th>utilisateur</th>\n",
       "    </tr>\n",
       "  </thead>\n",
       "  <tbody>\n",
       "    <tr>\n",
       "      <th>0</th>\n",
       "      <td>0</td>\n",
       "      <td>is upset that he can't update his Facebook by ...</td>\n",
       "      <td>Mon Apr 06 22:19:49 PDT 2009</td>\n",
       "      <td>scotthamilton</td>\n",
       "    </tr>\n",
       "    <tr>\n",
       "      <th>1</th>\n",
       "      <td>0</td>\n",
       "      <td>@Kenichan I dived many times for the ball. Man...</td>\n",
       "      <td>Mon Apr 06 22:19:53 PDT 2009</td>\n",
       "      <td>mattycus</td>\n",
       "    </tr>\n",
       "    <tr>\n",
       "      <th>2</th>\n",
       "      <td>0</td>\n",
       "      <td>my whole body feels itchy and like its on fire</td>\n",
       "      <td>Mon Apr 06 22:19:57 PDT 2009</td>\n",
       "      <td>ElleCTF</td>\n",
       "    </tr>\n",
       "    <tr>\n",
       "      <th>3</th>\n",
       "      <td>0</td>\n",
       "      <td>@nationwideclass no, it's not behaving at all....</td>\n",
       "      <td>Mon Apr 06 22:19:57 PDT 2009</td>\n",
       "      <td>Karoli</td>\n",
       "    </tr>\n",
       "    <tr>\n",
       "      <th>4</th>\n",
       "      <td>0</td>\n",
       "      <td>@Kwesidei not the whole crew</td>\n",
       "      <td>Mon Apr 06 22:20:00 PDT 2009</td>\n",
       "      <td>joy_wolf</td>\n",
       "    </tr>\n",
       "  </tbody>\n",
       "</table>\n",
       "</div>"
      ],
      "text/plain": [
       "   label                                              tweet  \\\n",
       "0      0  is upset that he can't update his Facebook by ...   \n",
       "1      0  @Kenichan I dived many times for the ball. Man...   \n",
       "2      0    my whole body feels itchy and like its on fire    \n",
       "3      0  @nationwideclass no, it's not behaving at all....   \n",
       "4      0                      @Kwesidei not the whole crew    \n",
       "\n",
       "                  date_du_poste    utilisateur  \n",
       "0  Mon Apr 06 22:19:49 PDT 2009  scotthamilton  \n",
       "1  Mon Apr 06 22:19:53 PDT 2009       mattycus  \n",
       "2  Mon Apr 06 22:19:57 PDT 2009        ElleCTF  \n",
       "3  Mon Apr 06 22:19:57 PDT 2009         Karoli  \n",
       "4  Mon Apr 06 22:20:00 PDT 2009       joy_wolf  "
      ]
     },
     "execution_count": 3,
     "metadata": {},
     "output_type": "execute_result"
    }
   ],
   "source": [
    "import os\n",
    "import pandas as pd\n",
    "data = pd.read_csv('P7_03_fichiercsv_tweet_val_lab_mod.csv')\n",
    "data.head()"
   ]
  },
  {
   "cell_type": "markdown",
   "metadata": {},
   "source": [
    "### Nuage de mots"
   ]
  },
  {
   "cell_type": "code",
   "execution_count": 4,
   "metadata": {},
   "outputs": [],
   "source": [
    "from wordcloud import WordCloud, STOPWORDS"
   ]
  },
  {
   "cell_type": "code",
   "execution_count": 5,
   "metadata": {},
   "outputs": [],
   "source": [
    "wordcloud = WordCloud(                      \n",
    "    background_color='white',\n",
    "    stopwords=STOPWORDS,\n",
    "    max_words=200,\n",
    "    max_font_size=40, \n",
    "    random_state=42).generate(str(data['tweet']))"
   ]
  },
  {
   "cell_type": "code",
   "execution_count": 6,
   "metadata": {},
   "outputs": [
    {
     "name": "stdout",
     "output_type": "stream",
     "text": [
      "<wordcloud.wordcloud.WordCloud object at 0x00000168483F64F0>\n"
     ]
    },
    {
     "data": {
      "image/png": "[encoded data removed]",
      "text/plain": [
       "<Figure size 432x288 with 1 Axes>"
      ]
     },
     "metadata": {
      "needs_background": "light"
     },
     "output_type": "display_data"
    }
   ],
   "source": [
    "import matplotlib.pyplot as plt\n",
    "print(wordcloud)\n",
    "fig = plt.figure(1)\n",
    "plt.imshow(wordcloud)\n",
    "plt.axis('off')\n",
    "plt.show()\n",
    "fig.savefig(\"word1.png\", dpi=900)"
   ]
  },
  {
   "cell_type": "markdown",
   "metadata": {},
   "source": [
    "Le nuage de mots est une très bonne technique de départ pour vérifier les mots qui apparaisse le plus souvent sur nos différents tweets, on constate que la langue utiliser est l’anglais et que ces tweets parle beaucoup du réseaux sociales Facebook."
   ]
  },
  {
   "cell_type": "markdown",
   "metadata": {},
   "source": [
    "## Nettoyage des tweets"
   ]
  },
  {
   "cell_type": "code",
   "execution_count": 7,
   "metadata": {},
   "outputs": [
    {
     "name": "stdout",
     "output_type": "stream",
     "text": [
      "['!', '\"', '#', '$', '%', '&', \"'\", '(', ')', '*', '+', ',', '-', '.', '/', ':', ';', '<', '=', '>', '?', '@', '[', '\\\\', ']', '^', '_', '`', '{', '|', '}', '~']\n",
      "\n",
      "\n",
      "['i', 'me', 'my', 'myself', 'we', 'our', 'ours', 'ourselves', 'you', \"you're\", \"you've\", \"you'll\", \"you'd\", 'your', 'yours', 'yourself', 'yourselves', 'he', 'him', 'his', 'himself', 'she', \"she's\", 'her', 'hers', 'herself', 'it', \"it's\", 'its', 'itself', 'they', 'them', 'their', 'theirs', 'themselves', 'what', 'which', 'who', 'whom', 'this', 'that', \"that'll\", 'these', 'those', 'am', 'is', 'are', 'was', 'were', 'be', 'been', 'being', 'have', 'has', 'had', 'having', 'do', 'does', 'did', 'doing', 'a', 'an', 'the', 'and', 'but', 'if', 'or', 'because', 'as', 'until', 'while', 'of', 'at', 'by', 'for', 'with', 'about', 'against', 'between', 'into', 'through', 'during', 'before', 'after', 'above', 'below', 'to', 'from', 'up', 'down', 'in', 'out', 'on', 'off', 'over', 'under', 'again', 'further', 'then', 'once', 'here', 'there', 'when', 'where', 'why', 'how', 'all', 'any', 'both', 'each', 'few', 'more', 'most', 'other', 'some', 'such', 'no', 'nor', 'not', 'only', 'own', 'same', 'so', 'than', 'too', 'very', 's', 't', 'can', 'will', 'just', 'don', \"don't\", 'should', \"should've\", 'now', 'd', 'll', 'm', 'o', 're', 've', 'y', 'ain', 'aren', \"aren't\", 'couldn', \"couldn't\", 'didn', \"didn't\", 'doesn', \"doesn't\", 'hadn', \"hadn't\", 'hasn', \"hasn't\", 'haven', \"haven't\", 'isn', \"isn't\", 'ma', 'mightn', \"mightn't\", 'mustn', \"mustn't\", 'needn', \"needn't\", 'shan', \"shan't\", 'shouldn', \"shouldn't\", 'wasn', \"wasn't\", 'weren', \"weren't\", 'won', \"won't\", 'wouldn', \"wouldn't\"]\n"
     ]
    },
    {
     "name": "stderr",
     "output_type": "stream",
     "text": [
      "[nltk_data] Downloading package punkt to\n",
      "[nltk_data]     C:\\Users\\JK253\\AppData\\Roaming\\nltk_data...\n",
      "[nltk_data]   Package punkt is already up-to-date!\n",
      "[nltk_data] Downloading package wordnet to\n",
      "[nltk_data]     C:\\Users\\JK253\\AppData\\Roaming\\nltk_data...\n",
      "[nltk_data]   Package wordnet is already up-to-date!\n",
      "[nltk_data] Downloading package stopwords to\n",
      "[nltk_data]     C:\\Users\\JK253\\AppData\\Roaming\\nltk_data...\n",
      "[nltk_data]   Package stopwords is already up-to-date!\n"
     ]
    }
   ],
   "source": [
    "#*****************************************\n",
    "# Préparation des librairie et des outils\n",
    "# pour le nettoyage des tweets\n",
    "#*****************************************\n",
    "\n",
    "# Expressions régulières\n",
    "import re\n",
    "\n",
    "# Pontuations\n",
    "import string\n",
    "ponctuations = list(string.punctuation)\n",
    "print(ponctuations)\n",
    "\n",
    "# Tokénisation\n",
    "import nltk\n",
    "nltk.download('punkt')\n",
    "from nltk.tokenize import word_tokenize\n",
    "\n",
    "# Lemmatisation\n",
    "nltk.download('wordnet')\n",
    "from nltk.stem import WordNetLemmatizer\n",
    "lem = WordNetLemmatizer()\n",
    "\n",
    "# Charger les stopwords\n",
    "nltk.download('stopwords')\n",
    "from nltk.corpus import stopwords\n",
    "mots_vides = stopwords.words('english')\n",
    "print('\\n')\n",
    "print(mots_vides)"
   ]
  },
  {
   "cell_type": "code",
   "execution_count": 8,
   "metadata": {},
   "outputs": [],
   "source": [
    "# fonction pour nettoyage de chaque document\n",
    "# tweet = corps du tweet = document\n",
    "# ponctuations : liste des ponctuations\n",
    "# stopwords : liste des stopwords à retirer\n",
    "# lem : fonction pour la lemmatisation des termes\n",
    "\n",
    "def clean_tweet(tweet, ponctuations, stopwords, lem):\n",
    "    # Harmonisation de la casse\n",
    "    temp = tweet.lower()\n",
    "    # retier les contractions en anglais\n",
    "    temp = re.sub(\"'\", \"\", temp)\n",
    "    # retrait des @\n",
    "    temp = re.sub(\"@[A-Za-z0-9_]+\", \"\", temp)\n",
    "    # retrait des #\n",
    "    temp = re.sub(\"#[A-Za-z0-9_]+\", \"\", temp)\n",
    "    # retrait des liens web (http et https)\n",
    "    temp = re.sub(r'http\\S+','', temp)\n",
    "    # retrait des ponctuations\n",
    "    temp = \"\".join([char for char in list(temp) if not (char in ponctuations)])\n",
    "    # retrait des nombres\n",
    "    temp = re.sub(\"[0-9]\", \"\", temp)\n",
    "    # tokénisation\n",
    "    temp = word_tokenize(temp)\n",
    "    # lemmatisation des termes\n",
    "    temp = [lem.lemmatize(mot) for mot in temp]\n",
    "    # retrait des stopwords\n",
    "    temp = [mot for mot in temp if not mot in stopwords]\n",
    "    # retirer les tokens de moins de 3 caractères\n",
    "    temp = [mot for mot in temp if len(mot) >= 3]\n",
    "    # reformer la chaîne\n",
    "    temp = \" \".join(mot for mot in temp)\n",
    "    return temp"
   ]
  },
  {
   "cell_type": "code",
   "execution_count": 9,
   "metadata": {},
   "outputs": [],
   "source": [
    "# Appliquer le nettoyage au corpus\n",
    "corpus = list(data.tweet)\n",
    "corpus = [clean_tweet(doc, ponctuations, mots_vides, lem) for doc in corpus]"
   ]
  },
  {
   "cell_type": "code",
   "execution_count": 10,
   "metadata": {},
   "outputs": [
    {
     "data": {
      "text/plain": [
       "'upset cant update facebook texting might cry result school today also blah'"
      ]
     },
     "execution_count": 10,
     "metadata": {},
     "output_type": "execute_result"
    }
   ],
   "source": [
    "corpus[0]"
   ]
  },
  {
   "cell_type": "code",
   "execution_count": 11,
   "metadata": {},
   "outputs": [
    {
     "name": "stdout",
     "output_type": "stream",
     "text": [
      "avant:.........\n"
     ]
    },
    {
     "data": {
      "text/html": [
       "<div>\n",
       "<style scoped>\n",
       "    .dataframe tbody tr th:only-of-type {\n",
       "        vertical-align: middle;\n",
       "    }\n",
       "\n",
       "    .dataframe tbody tr th {\n",
       "        vertical-align: top;\n",
       "    }\n",
       "\n",
       "    .dataframe thead th {\n",
       "        text-align: right;\n",
       "    }\n",
       "</style>\n",
       "<table border=\"1\" class=\"dataframe\">\n",
       "  <thead>\n",
       "    <tr style=\"text-align: right;\">\n",
       "      <th></th>\n",
       "      <th>label</th>\n",
       "      <th>tweet</th>\n",
       "      <th>date_du_poste</th>\n",
       "      <th>utilisateur</th>\n",
       "    </tr>\n",
       "  </thead>\n",
       "  <tbody>\n",
       "    <tr>\n",
       "      <th>0</th>\n",
       "      <td>0</td>\n",
       "      <td>is upset that he can't update his Facebook by ...</td>\n",
       "      <td>Mon Apr 06 22:19:49 PDT 2009</td>\n",
       "      <td>scotthamilton</td>\n",
       "    </tr>\n",
       "    <tr>\n",
       "      <th>1</th>\n",
       "      <td>0</td>\n",
       "      <td>@Kenichan I dived many times for the ball. Man...</td>\n",
       "      <td>Mon Apr 06 22:19:53 PDT 2009</td>\n",
       "      <td>mattycus</td>\n",
       "    </tr>\n",
       "    <tr>\n",
       "      <th>2</th>\n",
       "      <td>0</td>\n",
       "      <td>my whole body feels itchy and like its on fire</td>\n",
       "      <td>Mon Apr 06 22:19:57 PDT 2009</td>\n",
       "      <td>ElleCTF</td>\n",
       "    </tr>\n",
       "    <tr>\n",
       "      <th>3</th>\n",
       "      <td>0</td>\n",
       "      <td>@nationwideclass no, it's not behaving at all....</td>\n",
       "      <td>Mon Apr 06 22:19:57 PDT 2009</td>\n",
       "      <td>Karoli</td>\n",
       "    </tr>\n",
       "    <tr>\n",
       "      <th>4</th>\n",
       "      <td>0</td>\n",
       "      <td>@Kwesidei not the whole crew</td>\n",
       "      <td>Mon Apr 06 22:20:00 PDT 2009</td>\n",
       "      <td>joy_wolf</td>\n",
       "    </tr>\n",
       "    <tr>\n",
       "      <th>5</th>\n",
       "      <td>0</td>\n",
       "      <td>Need a hug</td>\n",
       "      <td>Mon Apr 06 22:20:03 PDT 2009</td>\n",
       "      <td>mybirch</td>\n",
       "    </tr>\n",
       "    <tr>\n",
       "      <th>6</th>\n",
       "      <td>0</td>\n",
       "      <td>@LOLTrish hey  long time no see! Yes.. Rains a...</td>\n",
       "      <td>Mon Apr 06 22:20:03 PDT 2009</td>\n",
       "      <td>coZZ</td>\n",
       "    </tr>\n",
       "    <tr>\n",
       "      <th>7</th>\n",
       "      <td>0</td>\n",
       "      <td>@Tatiana_K nope they didn't have it</td>\n",
       "      <td>Mon Apr 06 22:20:05 PDT 2009</td>\n",
       "      <td>2Hood4Hollywood</td>\n",
       "    </tr>\n",
       "    <tr>\n",
       "      <th>8</th>\n",
       "      <td>0</td>\n",
       "      <td>@twittera que me muera ?</td>\n",
       "      <td>Mon Apr 06 22:20:09 PDT 2009</td>\n",
       "      <td>mimismo</td>\n",
       "    </tr>\n",
       "    <tr>\n",
       "      <th>9</th>\n",
       "      <td>0</td>\n",
       "      <td>spring break in plain city... it's snowing</td>\n",
       "      <td>Mon Apr 06 22:20:16 PDT 2009</td>\n",
       "      <td>erinx3leannexo</td>\n",
       "    </tr>\n",
       "  </tbody>\n",
       "</table>\n",
       "</div>"
      ],
      "text/plain": [
       "   label                                              tweet  \\\n",
       "0      0  is upset that he can't update his Facebook by ...   \n",
       "1      0  @Kenichan I dived many times for the ball. Man...   \n",
       "2      0    my whole body feels itchy and like its on fire    \n",
       "3      0  @nationwideclass no, it's not behaving at all....   \n",
       "4      0                      @Kwesidei not the whole crew    \n",
       "5      0                                        Need a hug    \n",
       "6      0  @LOLTrish hey  long time no see! Yes.. Rains a...   \n",
       "7      0               @Tatiana_K nope they didn't have it    \n",
       "8      0                          @twittera que me muera ?    \n",
       "9      0        spring break in plain city... it's snowing    \n",
       "\n",
       "                  date_du_poste      utilisateur  \n",
       "0  Mon Apr 06 22:19:49 PDT 2009    scotthamilton  \n",
       "1  Mon Apr 06 22:19:53 PDT 2009         mattycus  \n",
       "2  Mon Apr 06 22:19:57 PDT 2009          ElleCTF  \n",
       "3  Mon Apr 06 22:19:57 PDT 2009           Karoli  \n",
       "4  Mon Apr 06 22:20:00 PDT 2009         joy_wolf  \n",
       "5  Mon Apr 06 22:20:03 PDT 2009          mybirch  \n",
       "6  Mon Apr 06 22:20:03 PDT 2009             coZZ  \n",
       "7  Mon Apr 06 22:20:05 PDT 2009  2Hood4Hollywood  \n",
       "8  Mon Apr 06 22:20:09 PDT 2009          mimismo  \n",
       "9  Mon Apr 06 22:20:16 PDT 2009   erinx3leannexo  "
      ]
     },
     "execution_count": 11,
     "metadata": {},
     "output_type": "execute_result"
    }
   ],
   "source": [
    "# Nouvelle dataframe\n",
    "df = pd.DataFrame({'label': data.label,'tweet': corpus})\n",
    "print(\"avant:.........\")\n",
    "data.head(10)"
   ]
  },
  {
   "cell_type": "code",
   "execution_count": 12,
   "metadata": {},
   "outputs": [
    {
     "name": "stdout",
     "output_type": "stream",
     "text": [
      "après:.........\n"
     ]
    },
    {
     "data": {
      "text/html": [
       "<div>\n",
       "<style scoped>\n",
       "    .dataframe tbody tr th:only-of-type {\n",
       "        vertical-align: middle;\n",
       "    }\n",
       "\n",
       "    .dataframe tbody tr th {\n",
       "        vertical-align: top;\n",
       "    }\n",
       "\n",
       "    .dataframe thead th {\n",
       "        text-align: right;\n",
       "    }\n",
       "</style>\n",
       "<table border=\"1\" class=\"dataframe\">\n",
       "  <thead>\n",
       "    <tr style=\"text-align: right;\">\n",
       "      <th></th>\n",
       "      <th>label</th>\n",
       "      <th>tweet</th>\n",
       "    </tr>\n",
       "  </thead>\n",
       "  <tbody>\n",
       "    <tr>\n",
       "      <th>0</th>\n",
       "      <td>0</td>\n",
       "      <td>upset cant update facebook texting might cry r...</td>\n",
       "    </tr>\n",
       "    <tr>\n",
       "      <th>1</th>\n",
       "      <td>0</td>\n",
       "      <td>dived many time ball managed save rest bound</td>\n",
       "    </tr>\n",
       "    <tr>\n",
       "      <th>2</th>\n",
       "      <td>0</td>\n",
       "      <td>whole body feel itchy like fire</td>\n",
       "    </tr>\n",
       "    <tr>\n",
       "      <th>3</th>\n",
       "      <td>0</td>\n",
       "      <td>behaving mad cant see</td>\n",
       "    </tr>\n",
       "    <tr>\n",
       "      <th>4</th>\n",
       "      <td>0</td>\n",
       "      <td>whole crew</td>\n",
       "    </tr>\n",
       "    <tr>\n",
       "      <th>5</th>\n",
       "      <td>0</td>\n",
       "      <td>need hug</td>\n",
       "    </tr>\n",
       "    <tr>\n",
       "      <th>6</th>\n",
       "      <td>0</td>\n",
       "      <td>hey long time see yes rain bit bit lol fine th...</td>\n",
       "    </tr>\n",
       "    <tr>\n",
       "      <th>7</th>\n",
       "      <td>0</td>\n",
       "      <td>nope didnt</td>\n",
       "    </tr>\n",
       "    <tr>\n",
       "      <th>8</th>\n",
       "      <td>0</td>\n",
       "      <td>que muera</td>\n",
       "    </tr>\n",
       "    <tr>\n",
       "      <th>9</th>\n",
       "      <td>0</td>\n",
       "      <td>spring break plain city snowing</td>\n",
       "    </tr>\n",
       "  </tbody>\n",
       "</table>\n",
       "</div>"
      ],
      "text/plain": [
       "   label                                              tweet\n",
       "0      0  upset cant update facebook texting might cry r...\n",
       "1      0       dived many time ball managed save rest bound\n",
       "2      0                    whole body feel itchy like fire\n",
       "3      0                              behaving mad cant see\n",
       "4      0                                         whole crew\n",
       "5      0                                           need hug\n",
       "6      0  hey long time see yes rain bit bit lol fine th...\n",
       "7      0                                         nope didnt\n",
       "8      0                                          que muera\n",
       "9      0                    spring break plain city snowing"
      ]
     },
     "execution_count": 12,
     "metadata": {},
     "output_type": "execute_result"
    }
   ],
   "source": [
    "print(\"après:.........\")\n",
    "df.head(10)"
   ]
  },
  {
   "cell_type": "code",
   "execution_count": 13,
   "metadata": {},
   "outputs": [
    {
     "name": "stdout",
     "output_type": "stream",
     "text": [
      "9236\n"
     ]
    }
   ],
   "source": [
    "# des tweets vides après nettoyage?\n",
    "print(df.loc[df.tweet==\"\"].shape[0])"
   ]
  },
  {
   "cell_type": "code",
   "execution_count": 14,
   "metadata": {
    "scrolled": true
   },
   "outputs": [
    {
     "name": "stdout",
     "output_type": "stream",
     "text": [
      "(1590763, 2)\n"
     ]
    }
   ],
   "source": [
    "# retrait des tweets correspondants\n",
    "df_ok = df.loc[df.tweet != \"\"]\n",
    "print(df_ok.shape)"
   ]
  },
  {
   "cell_type": "markdown",
   "metadata": {},
   "source": [
    "## Sauvegarder ma base de données nettoyé en fichier CSV"
   ]
  },
  {
   "cell_type": "code",
   "execution_count": 15,
   "metadata": {},
   "outputs": [],
   "source": [
    "df_ok.to_csv (r'P7_03_fichiercsv_tweet_nettoyé.csv', index = False, header=True)"
   ]
  },
  {
   "cell_type": "markdown",
   "metadata": {},
   "source": [
    "## Analyse des sentiments - Modélisation prédictive"
   ]
  },
  {
   "cell_type": "markdown",
   "metadata": {},
   "source": [
    "### Subdivision apprentissage-test des données "
   ]
  },
  {
   "cell_type": "code",
   "execution_count": 16,
   "metadata": {},
   "outputs": [
    {
     "name": "stdout",
     "output_type": "stream",
     "text": [
      "(1113534, 2)\n",
      "(477229, 2)\n"
     ]
    }
   ],
   "source": [
    "# partionner app-test\n",
    "from sklearn.model_selection import train_test_split\n",
    "data_train, data_test = train_test_split(df_ok, train_size=0.7, stratify=df_ok.label, random_state=0)\n",
    "\n",
    "# vérification\n",
    "print(data_train.shape)\n",
    "print(data_test.shape)"
   ]
  },
  {
   "cell_type": "code",
   "execution_count": 17,
   "metadata": {},
   "outputs": [
    {
     "name": "stdout",
     "output_type": "stream",
     "text": [
      "2.7.0\n"
     ]
    }
   ],
   "source": [
    "# version de keras\n",
    "from tensorflow import keras\n",
    "print(keras.__version__)"
   ]
  },
  {
   "cell_type": "markdown",
   "metadata": {},
   "source": [
    "## Tokénisation avec Keras - Constitution du dictionnaire"
   ]
  },
  {
   "cell_type": "code",
   "execution_count": 18,
   "metadata": {},
   "outputs": [
    {
     "name": "stdout",
     "output_type": "stream",
     "text": [
      "1113534\n"
     ]
    }
   ],
   "source": [
    "# tokénisation avec keras\n",
    "# num_words = None => sans limitation de termes à extraire\n",
    "from tensorflow.keras.preprocessing.text import Tokenizer\n",
    "tk = Tokenizer(num_words=None)\n",
    "\n",
    "# Création du dictionnaire à partir des documents de l'échantillon d'apprentissage\n",
    "tk.fit_on_texts(data_train.tweet)\n",
    "\n",
    "# nombre de documents traités\n",
    "print(tk.document_count)"
   ]
  },
  {
   "cell_type": "code",
   "execution_count": 19,
   "metadata": {},
   "outputs": [
    {
     "name": "stdout",
     "output_type": "stream",
     "text": [
      "319359\n"
     ]
    }
   ],
   "source": [
    "# taille du dictionnaire\n",
    "dico_size = len(tk.word_counts)\n",
    "print(dico_size)"
   ]
  },
  {
   "cell_type": "code",
   "execution_count": 20,
   "metadata": {},
   "outputs": [
    {
     "name": "stdout",
     "output_type": "stream",
     "text": [
      "[('bernie', 32), ('fom', 12), ('dont', 47007), ('provide', 124), ('feed', 831), ('going', 44961), ('dinner', 5069), ('kimgary', 1), ('anything', 5671), ('want', 33782)]\n"
     ]
    }
   ],
   "source": [
    "# liste des mots et leurs fréquences\n",
    "print(list(tk.word_counts.items())[:10])"
   ]
  },
  {
   "cell_type": "code",
   "execution_count": 21,
   "metadata": {},
   "outputs": [
    {
     "name": "stdout",
     "output_type": "stream",
     "text": [
      "[('day', 73190), ('good', 62664), ('get', 60362), ('like', 55169), ('got', 48681), ('dont', 47007), ('love', 46769), ('work', 46462), ('today', 46073), ('going', 44961)]\n"
     ]
    }
   ],
   "source": [
    "# liste triée dans l'ordre de la fréquence décroissante\n",
    "print(sorted(list(tk.word_counts.items()), key=lambda x: -x[1])[:10])"
   ]
  },
  {
   "cell_type": "code",
   "execution_count": 22,
   "metadata": {},
   "outputs": [
    {
     "name": "stdout",
     "output_type": "stream",
     "text": [
      "[('bernie', 32), ('fom', 12), ('dont', 47007), ('provide', 124), ('feed', 831), ('going', 44961), ('dinner', 5069), ('kimgary', 1), ('anything', 5671), ('want', 33782)]\n"
     ]
    }
   ],
   "source": [
    "# liste des termes avec leur indice - les 10 premiers\n",
    "print(list(tk.word_counts.items())[:10])"
   ]
  },
  {
   "cell_type": "code",
   "execution_count": 23,
   "metadata": {},
   "outputs": [
    {
     "name": "stdout",
     "output_type": "stream",
     "text": [
      "[('mequotaaaaaaaaa', 1), ('brokenthen', 1), ('btwthat', 1), ('nightu', 1), ('quotsouper', 1), ('mealsquot', 1), ('farout', 1), ('foodrelated', 1), ('dingdongs', 1), ('gudmorningaftanoon', 1)]\n"
     ]
    }
   ],
   "source": [
    "# les 10 derniers\n",
    "print(list(tk.word_counts.items())[-10:])"
   ]
  },
  {
   "cell_type": "markdown",
   "metadata": {},
   "source": [
    "### Documents = Séquence de tokens"
   ]
  },
  {
   "cell_type": "code",
   "execution_count": 24,
   "metadata": {},
   "outputs": [
    {
     "name": "stdout",
     "output_type": "stream",
     "text": [
      "[[11376, 20609, 6, 4818, 1205], [10, 260, 94845], [224, 18, 19, 92, 20610]]\n"
     ]
    }
   ],
   "source": [
    "# transformation des documents en séquences de tokens\n",
    "seq_train = tk.texts_to_sequences(data_train.tweet)\n",
    "print(seq_train[:3])"
   ]
  },
  {
   "cell_type": "code",
   "execution_count": 25,
   "metadata": {},
   "outputs": [
    {
     "name": "stdout",
     "output_type": "stream",
     "text": [
      "20105            bernie fom dont provide feed\n",
      "1522588                  going dinner kimgary\n",
      "828421     anything want see life singaporean\n",
      "Name: tweet, dtype: object\n"
     ]
    }
   ],
   "source": [
    "# tweet correspondence\n",
    "print(data_train.tweet[:3])"
   ]
  },
  {
   "cell_type": "code",
   "execution_count": 26,
   "metadata": {},
   "outputs": [
    {
     "name": "stdout",
     "output_type": "stream",
     "text": [
      "('bernie', 11376)\n"
     ]
    }
   ],
   "source": [
    "# vérification -bernie\n",
    "print(list(tk.word_index.items())[11376-1])"
   ]
  },
  {
   "cell_type": "code",
   "execution_count": 27,
   "metadata": {},
   "outputs": [
    {
     "name": "stdout",
     "output_type": "stream",
     "text": [
      "33\n"
     ]
    }
   ],
   "source": [
    "# longueur max des documents dans l'échantillon train\n",
    "import numpy\n",
    "max_length = numpy.max(numpy.array([len(doc) for doc in seq_train]))\n",
    "print(max_length)"
   ]
  },
  {
   "cell_type": "code",
   "execution_count": 28,
   "metadata": {},
   "outputs": [
    {
     "name": "stdout",
     "output_type": "stream",
     "text": [
      "[[11376 20609     6  4818  1205     0     0     0     0     0     0     0\n",
      "      0     0     0     0     0     0     0     0     0     0     0     0\n",
      "      0     0     0     0     0     0     0     0     0     0     0     0\n",
      "      0     0]\n",
      " [   10   260 94845     0     0     0     0     0     0     0     0     0\n",
      "      0     0     0     0     0     0     0     0     0     0     0     0\n",
      "      0     0     0     0     0     0     0     0     0     0     0     0\n",
      "      0     0]\n",
      " [  224    18    19    92 20610     0     0     0     0     0     0     0\n",
      "      0     0     0     0     0     0     0     0     0     0     0     0\n",
      "      0     0     0     0     0     0     0     0     0     0     0     0\n",
      "      0     0]]\n"
     ]
    }
   ],
   "source": [
    "# transformer en pad_sequences pour manipuler une structure de taille fixe\n",
    "# maxlen = max_length + marge pour éventuellement gérer les documents plus longs en déploiement\n",
    "\n",
    "# marge_length\n",
    "marge_length = 5\n",
    "\n",
    "from tensorflow.keras.preprocessing.sequence import pad_sequences\n",
    "pad_train = pad_sequences(seq_train, maxlen=max_length + marge_length, padding='post')\n",
    "\n",
    "# les 3 premiers documents\n",
    "print(pad_train[:3,:])"
   ]
  },
  {
   "cell_type": "markdown",
   "metadata": {},
   "source": [
    "## Modélisation prédictive (1) - régularisation KERAS simple(optimisé)"
   ]
  },
  {
   "cell_type": "code",
   "execution_count": 29,
   "metadata": {},
   "outputs": [
    {
     "name": "stdout",
     "output_type": "stream",
     "text": [
      "Model: \"sequential\"\n",
      "_________________________________________________________________\n",
      " Layer (type)                Output Shape              Param #   \n",
      "=================================================================\n",
      " embedding (Embedding)       (None, 38, 10)            3193600   \n",
      "                                                                 \n",
      " max_pooling1d (MaxPooling1D  (None, 17, 10)           0         \n",
      " )                                                               \n",
      "                                                                 \n",
      " dropout (Dropout)           (None, 17, 10)            0         \n",
      "                                                                 \n",
      " flatten (Flatten)           (None, 170)               0         \n",
      "                                                                 \n",
      " dense (Dense)               (None, 1)                 171       \n",
      "                                                                 \n",
      "=================================================================\n",
      "Total params: 3,193,771\n",
      "Trainable params: 3,193,771\n",
      "Non-trainable params: 0\n",
      "_________________________________________________________________\n",
      "None\n"
     ]
    }
   ],
   "source": [
    "# créer un modèle\n",
    "from tensorflow.keras.models import Sequential\n",
    "from tensorflow.keras.layers import Dense, Flatten, Embedding, MaxPooling1D, Dropout \n",
    "# perception multicouche\n",
    "#==> output_dim précise la taille de l'espace de représentation dans lequelle seront projetés les termes\n",
    "#==> input_dim = dico_size + 1 à cause de l'index des termes commence à la colonne 1\n",
    "#(la colonne 0 existe mais n'est pas associée à un  terme)\n",
    "model_KSO = Sequential()\n",
    "model_KSO.add(Embedding(input_dim = dico_size +1, output_dim = 10, input_length= max_length + marge_length))\n",
    "# 2 opérations de régularisation \n",
    "model_KSO.add(MaxPooling1D(pool_size=5, strides=2))\n",
    "model_KSO.add(Dropout(0.7))\n",
    "# reprise du réseau habituel\n",
    "model_KSO.add(Flatten())\n",
    "model_KSO.add(Dense(units=1, activation=\"sigmoid\"))\n",
    "\n",
    "# structure du réseau\n",
    "print(model_KSO.summary())"
   ]
  },
  {
   "cell_type": "code",
   "execution_count": 30,
   "metadata": {},
   "outputs": [
    {
     "name": "stdout",
     "output_type": "stream",
     "text": [
      "Epoch 1/5\n",
      "27839/27839 [==============================] - 172s 6ms/step - loss: 0.5641 - accuracy: 0.7114 - val_loss: 0.5028 - val_accuracy: 0.7698\n",
      "Epoch 2/5\n",
      "27839/27839 [==============================] - 164s 6ms/step - loss: 0.5332 - accuracy: 0.7424 - val_loss: 0.4985 - val_accuracy: 0.7736\n",
      "Epoch 3/5\n",
      "27839/27839 [==============================] - 176s 6ms/step - loss: 0.5259 - accuracy: 0.7492 - val_loss: 0.4972 - val_accuracy: 0.7703\n",
      "Epoch 4/5\n",
      "27839/27839 [==============================] - 170s 6ms/step - loss: 0.5208 - accuracy: 0.7533 - val_loss: 0.4955 - val_accuracy: 0.7725\n",
      "Epoch 5/5\n",
      "27839/27839 [==============================] - 166s 6ms/step - loss: 0.5173 - accuracy: 0.7566 - val_loss: 0.4957 - val_accuracy: 0.7722\n"
     ]
    }
   ],
   "source": [
    "# paramétre de l'algorithme d'apprentissage\n",
    "model_KSO.compile(loss=\"binary_crossentropy\", optimizer = \"adam\", metrics=['accuracy'])\n",
    "\n",
    "# lancement - une partie du train est réservée pour la validation c'est à dire pour un suivi plus réaliste des performance\n",
    "history_KSO = model_KSO.fit(pad_train, data_train.label, epochs=5,validation_split=0.2)"
   ]
  },
  {
   "cell_type": "code",
   "execution_count": 31,
   "metadata": {},
   "outputs": [
    {
     "data": {
      "image/png": "[encoded data removed]",
      "text/plain": [
       "<Figure size 432x288 with 1 Axes>"
      ]
     },
     "metadata": {
      "needs_background": "light"
     },
     "output_type": "display_data"
    }
   ],
   "source": [
    "# graphique accuracy\n",
    "import matplotlib.pyplot as plt\n",
    "\n",
    "# fonction pour évaluation de l'accuracy\n",
    "def graphique(history):\n",
    "    plt.plot(history.history['accuracy'])\n",
    "    plt.plot(history.history['val_accuracy'])\n",
    "    plt.title('model_KSO accuracy')\n",
    "    plt.ylabel('accuracy')\n",
    "    plt.xlabel('epoch')\n",
    "    plt.legend(['train', 'validation'], loc= 'upper left')\n",
    "    plt.show()\n",
    "\n",
    "# appel de la fonction\n",
    "graphique(history_KSO)"
   ]
  },
  {
   "cell_type": "markdown",
   "metadata": {},
   "source": [
    "### Word embedding - coordonnées des termes"
   ]
  },
  {
   "cell_type": "code",
   "execution_count": 32,
   "metadata": {},
   "outputs": [
    {
     "name": "stdout",
     "output_type": "stream",
     "text": [
      "(319360, 10)\n"
     ]
    }
   ],
   "source": [
    "# coordonnées des termes - dimension de la matrice\n",
    "terms_coordo = model_KSO.get_weights()[0]\n",
    "print(terms_coordo.shape)"
   ]
  },
  {
   "cell_type": "markdown",
   "metadata": {},
   "source": [
    "## Modélisation prédictive (2) - en utilisant la couche LSTM"
   ]
  },
  {
   "cell_type": "code",
   "execution_count": 33,
   "metadata": {},
   "outputs": [
    {
     "name": "stdout",
     "output_type": "stream",
     "text": [
      "Model: \"sequential_1\"\n",
      "_________________________________________________________________\n",
      " Layer (type)                Output Shape              Param #   \n",
      "=================================================================\n",
      " embedding_1 (Embedding)     (None, 38, 10)            3193600   \n",
      "                                                                 \n",
      " max_pooling1d_1 (MaxPooling  (None, 17, 10)           0         \n",
      " 1D)                                                             \n",
      "                                                                 \n",
      " dropout_1 (Dropout)         (None, 17, 10)            0         \n",
      "                                                                 \n",
      " lstm (LSTM)                 (None, 128)               71168     \n",
      "                                                                 \n",
      " flatten_1 (Flatten)         (None, 128)               0         \n",
      "                                                                 \n",
      " dense_1 (Dense)             (None, 1)                 129       \n",
      "                                                                 \n",
      "=================================================================\n",
      "Total params: 3,264,897\n",
      "Trainable params: 3,264,897\n",
      "Non-trainable params: 0\n",
      "_________________________________________________________________\n",
      "None\n"
     ]
    }
   ],
   "source": [
    "# autre\n",
    "from tensorflow.keras.layers import MaxPooling1D, Dropout,LSTM\n",
    "lstm_out = 128\n",
    "# perception multicouche\n",
    "model_LSTM = Sequential()\n",
    "model_LSTM.add(Embedding(input_dim = dico_size +1, output_dim = 10, input_length= max_length + marge_length))\n",
    "# 2 opérations de régularisation \n",
    "model_LSTM.add(MaxPooling1D(pool_size=5, strides=2))\n",
    "model_LSTM.add(Dropout(0.7))\n",
    "# couche lstm\n",
    "model_LSTM.add(LSTM(lstm_out))\n",
    "#model_2.add(LSTM(128, return_sequences=True, input_dim=3, input_shape =(50,), activation= 'relu')) \n",
    "#model_2.add(LSTM(32, return_sequences=True))\n",
    "\n",
    "#model_2.add(Dropout(0.2))\n",
    "\n",
    "# reprise du réseau habituel\n",
    "model_LSTM.add(Flatten())\n",
    "model_LSTM.add(Dense(units=1, activation=\"sigmoid\"))\n",
    "\n",
    "# structure du réseau\n",
    "print(model_LSTM.summary())"
   ]
  },
  {
   "cell_type": "code",
   "execution_count": 34,
   "metadata": {},
   "outputs": [
    {
     "name": "stdout",
     "output_type": "stream",
     "text": [
      "Epoch 1/5\n",
      "27839/27839 [==============================] - 277s 10ms/step - loss: 0.5327 - accuracy: 0.7322 - val_loss: 0.5157 - val_accuracy: 0.7498\n",
      "Epoch 2/5\n",
      "27839/27839 [==============================] - 275s 10ms/step - loss: 0.4901 - accuracy: 0.7653 - val_loss: 0.4884 - val_accuracy: 0.7718\n",
      "Epoch 3/5\n",
      "27839/27839 [==============================] - 279s 10ms/step - loss: 0.4709 - accuracy: 0.7799 - val_loss: 0.4909 - val_accuracy: 0.7688\n",
      "Epoch 4/5\n",
      "27839/27839 [==============================] - 277s 10ms/step - loss: 0.4581 - accuracy: 0.7884 - val_loss: 0.4976 - val_accuracy: 0.7605\n",
      "Epoch 5/5\n",
      "27839/27839 [==============================] - 278s 10ms/step - loss: 0.4480 - accuracy: 0.7946 - val_loss: 0.5078 - val_accuracy: 0.7585\n"
     ]
    }
   ],
   "source": [
    "# paramétre de l'algorithme d'apprentissage\n",
    "model_LSTM.compile(loss=\"binary_crossentropy\", optimizer = \"adam\", metrics=['accuracy'])\n",
    "\n",
    "# lancement - une partie du train est réservée pour la validation c'est à dire pour un suivi plus réaliste des performance\n",
    "history_LSTM = model_LSTM.fit(pad_train, data_train.label, epochs=5,validation_split=0.2)"
   ]
  },
  {
   "cell_type": "code",
   "execution_count": 35,
   "metadata": {},
   "outputs": [
    {
     "data": {
      "image/png": "[encoded data removed]",
      "text/plain": [
       "<Figure size 432x288 with 1 Axes>"
      ]
     },
     "metadata": {
      "needs_background": "light"
     },
     "output_type": "display_data"
    }
   ],
   "source": [
    "# graphique accuracy\n",
    "import matplotlib.pyplot as plt\n",
    "\n",
    "# fonction pour évaluation de l'accuracy\n",
    "def graphique(history):\n",
    "    plt.plot(history.history['accuracy'])\n",
    "    plt.plot(history.history['val_accuracy'])\n",
    "    plt.title('model_LSTM accuracy')\n",
    "    plt.ylabel('accuracy')\n",
    "    plt.xlabel('epoch')\n",
    "    plt.legend(['train', 'validation'], loc= 'upper left')\n",
    "    plt.show()\n",
    "\n",
    "# appel de la fonction\n",
    "graphique(history_LSTM)"
   ]
  },
  {
   "cell_type": "markdown",
   "metadata": {},
   "source": [
    "## Evaluation sur l'échantillon test des 2 modèles(model_KSO et model_LSTM)"
   ]
  },
  {
   "cell_type": "code",
   "execution_count": 36,
   "metadata": {},
   "outputs": [
    {
     "name": "stdout",
     "output_type": "stream",
     "text": [
      "567941                                 okay meeting twitter\n",
      "390271    really hard watch saturday morning infomercial...\n",
      "331831                   finished watching marley sad movie\n",
      "Name: tweet, dtype: object\n",
      "\n",
      "\n",
      "[[  240   447    38     0     0     0     0     0     0     0     0     0\n",
      "      0     0     0     0     0     0     0     0     0     0     0     0\n",
      "      0     0     0     0     0     0     0     0     0     0     0     0\n",
      "      0     0]\n",
      " [   17   189   100   295    35 12220   152  2786     6    16   950   288\n",
      "      0     0     0     0     0     0     0     0     0     0     0     0\n",
      "      0     0     0     0     0     0     0     0     0     0     0     0\n",
      "      0     0]\n",
      " [  255    65  2831    43    99     0     0     0     0     0     0     0\n",
      "      0     0     0     0     0     0     0     0     0     0     0     0\n",
      "      0     0     0     0     0     0     0     0     0     0     0     0\n",
      "      0     0]]\n"
     ]
    }
   ],
   "source": [
    "seq_test = tk.texts_to_sequences(data_test.tweet)\n",
    "pad_test = pad_sequences(seq_test, maxlen= max_length + marge_length, padding='post')\n",
    "\n",
    "# tweets\n",
    "print(data_test.tweet[:3])\n",
    "\n",
    "# vérification\n",
    "print('\\n')\n",
    "print(pad_test[:3,:])"
   ]
  },
  {
   "cell_type": "code",
   "execution_count": 37,
   "metadata": {},
   "outputs": [
    {
     "name": "stdout",
     "output_type": "stream",
     "text": [
      "14914/14914 [==============================] - 43s 3ms/step - loss: 0.4958 - accuracy: 0.7703\n",
      "[0.4957602024078369, 0.7702842950820923]\n"
     ]
    }
   ],
   "source": [
    "# premier modèle(model_KSO) évaluation en test avec evaluate()\n",
    "print(model_KSO.evaluate(pad_test, data_test.label))"
   ]
  },
  {
   "cell_type": "code",
   "execution_count": 38,
   "metadata": {
    "scrolled": true
   },
   "outputs": [
    {
     "name": "stdout",
     "output_type": "stream",
     "text": [
      "14914/14914 [==============================] - 68s 5ms/step - loss: 0.5041 - accuracy: 0.7605\n",
      "[0.5041378140449524, 0.7605300545692444]\n"
     ]
    }
   ],
   "source": [
    "# le second modèle (model_LSTM) avec couche lstm èvaluation en test avec evaluate()\n",
    "print(model_LSTM.evaluate(pad_test, data_test.label))"
   ]
  },
  {
   "cell_type": "markdown",
   "metadata": {},
   "source": [
    "## Déploiement sur un document supplémentaire"
   ]
  },
  {
   "cell_type": "code",
   "execution_count": 39,
   "metadata": {},
   "outputs": [],
   "source": [
    "blog_avion = \"My next plane ticket has just been booked! I fly in March to the Philippines. I am currently in the process of preparing for my next trip: what are the places I would like to discover, which itinerary to choose and in which cities to sleep, which domestic flights I will book to move between the islands etc. A trip by plane is an action that is anticipated and prepared a minimum. We can also face hazards, and it is important to know how to react. I indicate in this article various and varied tips on the theme of air travel. During the flight, the time may seem long, especially depending on the duration of your trip. Take something to take care of, and what not to be embarrassed (Quies balls can be useful). Also, feel free to get up from time to time if you need to stretch your legs. Be aware that the toilet is unavailable during take-off and landing, take precautions. A tip, always carry a photocopy of your passport, it can help in case of loss or theft that would occur during the trip. We also often talk about flight delay or cancellation. The wait seems endless in these cases, and travelers too often lack information. It is therefore necessary to try to take his evil in patience. Delayed plane, cancelled flight,companies like Indemnflight can help you get compensated. Note that the delay must be more than 3 hours for compensation to be possible. The advantage of going through Indemnflight is that experts take care of the administrative procedures for you, and they know the rights of passengers well. Note that they are paid only when the compensation is validated. You therefore delegate the management of the request, and then pay them in return a part of the compensation. I personally have only 2h30 maximum of delay to my credit, and have never tested the claim. Finally, the loss of luggage is also a thorny subject! If you do not find it at the exit of the plane, go to a counter available at the airport to report it and find a solution. The price of a plane ticket varies a lot depending on many factors. The level of demand, the time of year, the day and time of booking and the booking time before the departure date are very important elements to take into account if you have in mind to make a good deal when booking your flight. To learn more, I advise you to read this article from my travel blog: How to find a cheap plane ticket? Follow these 11 tips! When booking your flight, check that the formalities of entry into the desired country are feasible on time (example: a visa application must be made in advance), and that your identity card and/or passport will still be valid. Note that for many destinations, the passport must often be valid for a period of 6 months from the date of arrival. It is advisable to book flights well in advance. You rarely get a good deal when you buy a plane ticket a few days before departure. And in this case we take the risk of no longer having a place. In the case of my next trip to the Philippines, it is for these reasons that I will soon book the 2 domestic flights. Especially since I am going to travel with the national airline, and I have the impression that the weight of the luggage allowed is less than the 23 kg allowed on my international flight. I must therefore take this into account. Finally, it is necessary to pay attention to the information provided during the reservation. An error on the last name, or a time on the dates can be expensive, there is in this case a risk of paying extra to make this type of change, or even having to cancel your trip. First of all, find out a little in advance about how you will reach the airport (car + parking, bus, train...). When packing your suitcase, try to think of everything you will need on the spot. Also be aware that some products are prohibited in cabin baggage (liquid products greater than 100ml, knives etc.). Check the airline's website for an exhaustive list, and avoid having certain products confiscated. It is advisable to arrive 1h30 to 2h in advance for short or medium haul flight. 2h to 3h are recommended for international flights. This delay varies according to several elements: is your plane ticket ready or are you going to do the formalities at the airport? Do you have luggage to drop off at the counter? How big is the airport and in which area will you board? To help you and go further, discover the guide: practical tips for flying the first time: the steps to follow at the airport. Do you have any other tips to share when flying? Or adventures to share? Feel free to indicate them in the comments.\""
   ]
  },
  {
   "cell_type": "code",
   "execution_count": 40,
   "metadata": {},
   "outputs": [
    {
     "name": "stdout",
     "output_type": "stream",
     "text": [
      "next plane ticket booked fly march philippine currently process preparing next trip place would like discover itinerary choose city sleep domestic flight book move island etc trip plane action anticipated prepared minimum also face hazard important know react indicate article various varied tip theme air travel flight time may seem long especially depending duration trip take something take care embarrassed quies ball useful also feel free get time time need stretch leg aware toilet unavailable takeoff landing take precaution tip always carry photocopy passport help case loss theft would occur trip also often talk flight delay cancellation wait seems endless case traveler often lack information therefore necessary try take evil patience delayed plane cancelled flightcompanies like indemnflight help get compensated note delay must hour compensation possible advantage going indemnflight expert take care administrative procedure know right passenger well note paid compensation validated therefore delegate management request pay return part compensation personally maximum delay credit never tested claim finally loss luggage also thorny subject find exit plane counter available airport report find solution price plane ticket varies lot depending many factor level demand time year day time booking booking time departure date important element take account mind make good deal booking flight learn advise read article travel blog find cheap plane ticket follow tip booking flight check formality entry desired country feasible time example visa application must made advance identity card andor passport still valid note many destination passport must often valid period month date arrival advisable book flight well advance rarely get good deal buy plane ticket day departure case take risk longer place case next trip philippine reason soon book domestic flight especially since going travel national airline impression weight luggage allowed allowed international flight must therefore take account finally necessary pay attention information provided reservation error last name time date expensive case risk paying extra make type change even cancel trip first find little advance reach airport car parking bus train packing suitcase try think everything need spot also aware product prohibited cabin baggage liquid product greater knife etc check airline website exhaustive list avoid certain product confiscated advisable arrive advance short medium haul flight recommended international flight delay varies according several element plane ticket ready going formality airport luggage drop counter big airport area board help discover guide practical tip flying first time step follow airport tip share flying adventure share feel free indicate comment\n"
     ]
    }
   ],
   "source": [
    "# nettoyage\n",
    "my_clean = clean_tweet(blog_avion, ponctuations, mots_vides,lem)\n",
    "print(my_clean)"
   ]
  },
  {
   "cell_type": "code",
   "execution_count": 41,
   "metadata": {
    "scrolled": true
   },
   "outputs": [
    {
     "name": "stdout",
     "output_type": "stream",
     "text": [
      "[[80, 793, 379, 2013, 744, 3110, 1809, 845, 1991, 1815, 80, 349, 258, 52, 4, 5080, 14446, 1761, 461, 48, 6477, 555, 247, 438, 1173, 1007, 349, 793, 1597, 11111, 2812, 6452, 168, 311, 16936, 1190, 16, 11752, 16150, 1073, 5236, 32304, 1086, 1609, 559, 1155, 555, 11, 220, 522, 91, 676, 5452, 24876, 349, 82, 116, 82, 383, 5839, 807, 2522, 168, 32, 246, 3, 11, 11, 26, 3948, 611, 3857, 2504, 6776, 17596, 5573, 82, 20262, 1086, 108, 2340, 24194, 3500, 132, 702, 1296, 10587, 52, 12012, 349, 168, 984, 212, 555, 2535, 9737, 66, 355, 5149, 702, 9705, 984, 1346, 2666, 3945, 4142, 162, 82, 1382, 3739, 1949, 793, 1037, 4, 132, 3, 31097, 709, 2535, 216, 72, 18692, 970, 3382, 10, 3787, 82, 383, 30661, 8140, 16, 47, 4371, 20, 709, 1046, 18692, 22095, 3945, 25536, 3233, 1592, 408, 1045, 344, 18692, 2731, 8366, 2535, 1461, 84, 5393, 3711, 140, 1296, 4350, 168, 318971, 2363, 111, 5375, 793, 4085, 1051, 674, 1093, 111, 2813, 1110, 793, 379, 26288, 112, 5452, 205, 4171, 1273, 3212, 11, 97, 1, 11, 4461, 4461, 11, 8125, 531, 1190, 5654, 82, 530, 366, 33, 2, 809, 4461, 555, 679, 7572, 209, 1073, 1155, 336, 111, 1474, 793, 379, 155, 1086, 4461, 555, 211, 33956, 2324, 12080, 835, 18917, 11, 3135, 4602, 2018, 216, 119, 3419, 8109, 578, 4780, 3500, 23, 6338, 709, 205, 5054, 3500, 216, 984, 6338, 1824, 243, 531, 5458, 59602, 247, 555, 20, 3419, 3713, 3, 2, 809, 280, 793, 379, 1, 8125, 702, 82, 3906, 608, 258, 702, 80, 349, 1809, 441, 88, 247, 6477, 555, 676, 191, 10, 1155, 1713, 4451, 4348, 1298, 4350, 1152, 1152, 3080, 555, 216, 3945, 82, 530, 140, 4142, 408, 1612, 2666, 6665, 8212, 1586, 31, 300, 11, 531, 1194, 702, 3906, 1738, 875, 33, 883, 370, 79, 2386, 349, 95, 111, 90, 3419, 1737, 674, 194, 2170, 617, 419, 756, 4367, 162, 22, 270, 26, 1197, 168, 3857, 1784, 24757, 5864, 13058, 5579, 1784, 7062, 4389, 1007, 211, 4451, 601, 244122, 520, 2332, 1767, 1784, 15420, 59602, 2096, 3419, 497, 1233, 7331, 555, 4026, 3080, 555, 2535, 26288, 2282, 1967, 5654, 793, 379, 118, 10, 33956, 674, 4350, 853, 4085, 157, 674, 1084, 1176, 132, 5080, 2766, 6524, 1086, 1290, 95, 11, 1106, 155, 674, 1086, 721, 1290, 1835, 721, 32, 246, 16150, 589]]\n"
     ]
    }
   ],
   "source": [
    "# transformation en séquence\n",
    "my_seq = tk.texts_to_sequences([my_clean])\n",
    "print(my_seq)"
   ]
  },
  {
   "cell_type": "code",
   "execution_count": 42,
   "metadata": {},
   "outputs": [],
   "source": [
    "max_length = 33"
   ]
  },
  {
   "cell_type": "code",
   "execution_count": 43,
   "metadata": {},
   "outputs": [],
   "source": [
    "# puis en pad\n",
    "my_pad = pad_sequences(my_seq, maxlen= max_length + marge_length, padding='post')"
   ]
  },
  {
   "cell_type": "code",
   "execution_count": 44,
   "metadata": {},
   "outputs": [],
   "source": [
    "# prédiction\n",
    "pred = model_KSO.predict(my_pad)"
   ]
  },
  {
   "cell_type": "code",
   "execution_count": 45,
   "metadata": {},
   "outputs": [],
   "source": [
    "def final_pred(pred):\n",
    "    if(pred <0.5):\n",
    "        print(\"Le tweet renvoi un sentiment nègatif\")\n",
    "    elif(pred >=0.5):\n",
    "        print(\"Le tweet renvoi un sentiment positif\")"
   ]
  },
  {
   "cell_type": "code",
   "execution_count": 46,
   "metadata": {},
   "outputs": [
    {
     "name": "stdout",
     "output_type": "stream",
     "text": [
      "Le tweet renvoi un sentiment nègatif\n"
     ]
    }
   ],
   "source": [
    "final_pred(pred)"
   ]
  },
  {
   "cell_type": "markdown",
   "metadata": {},
   "source": [
    "## Enregistrement des 2 modèles Keras"
   ]
  },
  {
   "cell_type": "code",
   "execution_count": 47,
   "metadata": {},
   "outputs": [
    {
     "name": "stdout",
     "output_type": "stream",
     "text": [
      "INFO:tensorflow:Assets written to: ../P7/P7_01_modèlesurmesure_avancé_keras_embedding\\assets\n"
     ]
    }
   ],
   "source": [
    "model_KSO.save('../P7/P7_01_modèlesurmesure_avancé_keras_embedding')"
   ]
  },
  {
   "cell_type": "code",
   "execution_count": 50,
   "metadata": {},
   "outputs": [
    {
     "name": "stdout",
     "output_type": "stream",
     "text": [
      "Requirement already satisfied: h5py in c:\\users\\jk253\\anaconda3\\lib\\site-packages (3.6.0)\n",
      "Requirement already satisfied: numpy>=1.14.5 in c:\\users\\jk253\\anaconda3\\lib\\site-packages (from h5py) (1.21.5)\n",
      "Note: you may need to restart the kernel to use updated packages.\n"
     ]
    }
   ],
   "source": [
    "pip install h5py"
   ]
  },
  {
   "cell_type": "code",
   "execution_count": 51,
   "metadata": {},
   "outputs": [],
   "source": [
    "# sauvegarde pour déployer le modéle\n",
    "model_KSO.save(\"avance_choisie.h5\")"
   ]
  },
  {
   "cell_type": "code",
   "execution_count": 52,
   "metadata": {},
   "outputs": [
    {
     "name": "stderr",
     "output_type": "stream",
     "text": [
      "WARNING:absl:Found untraced functions such as lstm_cell_layer_call_fn, lstm_cell_layer_call_and_return_conditional_losses, lstm_cell_layer_call_fn, lstm_cell_layer_call_and_return_conditional_losses, lstm_cell_layer_call_and_return_conditional_losses while saving (showing 5 of 5). These functions will not be directly callable after loading.\n"
     ]
    },
    {
     "name": "stdout",
     "output_type": "stream",
     "text": [
      "INFO:tensorflow:Assets written to: ../P7/P7_01_modèlesurmesure_avancé_keras_embedding_LSTM\\assets\n"
     ]
    },
    {
     "name": "stderr",
     "output_type": "stream",
     "text": [
      "INFO:tensorflow:Assets written to: ../P7/P7_01_modèlesurmesure_avancé_keras_embedding_LSTM\\assets\n",
      "WARNING:absl:<keras.layers.recurrent.LSTMCell object at 0x00000169B9D9A7C0> has the same name 'LSTMCell' as a built-in Keras object. Consider renaming <class 'keras.layers.recurrent.LSTMCell'> to avoid naming conflicts when loading with `tf.keras.models.load_model`. If renaming is not possible, pass the object in the `custom_objects` parameter of the load function.\n"
     ]
    }
   ],
   "source": [
    "model_LSTM.save('../P7/P7_01_modèlesurmesure_avancé_keras_embedding_LSTM')"
   ]
  },
  {
   "cell_type": "code",
   "execution_count": null,
   "metadata": {},
   "outputs": [],
   "source": []
  }
 ],
 "metadata": {
  "kernelspec": {
   "display_name": "Python 3",
   "language": "python",
   "name": "python3"
  },
  "language_info": {
   "codemirror_mode": {
    "name": "ipython",
    "version": 3
   },
   "file_extension": ".py",
   "mimetype": "text/x-python",
   "name": "python",
   "nbconvert_exporter": "python",
   "pygments_lexer": "ipython3",
   "version": "3.8.5"
  }
 },
 "nbformat": 4,
 "nbformat_minor": 4
}
